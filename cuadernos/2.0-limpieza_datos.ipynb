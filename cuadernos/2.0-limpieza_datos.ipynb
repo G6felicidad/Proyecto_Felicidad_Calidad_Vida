{
 "cells": [
  {
   "attachments": {},
   "cell_type": "markdown",
   "metadata": {},
   "source": [
    "# <font color=900C3F>LIMPEZA DE DATOS (VALORES NULOS Y OUTLIERS)</font>"
   ]
  },
  {
   "attachments": {},
   "cell_type": "markdown",
   "metadata": {},
   "source": [
    "---\n",
    "\n",
    "## <font color=#FF5733>REQUISITOS:</font>\n",
    "\n",
    "> Los datos importados en este cuaderno han sido organizados en una fase anterior a esta, donde los datos, han pasado por un procesamiento de carga, tratamiento de estructura de columnas, traducción al español y fusion de los datos en un unico CSV.\n",
    "> \n",
    "> El proceso de limpieza de los datos tiene como objetivo verificar si hay valores nulos y outiliers en el conjunto de datos importados a este cuaderno.\n",
    "> \n",
    "> Habiendo valores nulos y outiliers, estos valores deben ser tratados.\n",
    "> \n",
    "> Outiliers son valores atípicos que pueden presentarse en un conjunto de datos y deben ser tratados.\n",
    "> \n",
    "> El proceso de limpieza de Outiliers debe aplicar la técnica de los \"Cuartiles\" para eliminar los valores atípicos.\n",
    "> \n",
    "> El proceso de tratamiento de Outliers empieza después del tratamiento de valores nulos.\n",
    ">  \n",
    "> Después de hacer la limpieza de los datos, este proceso debe generar un fichero en formato CSV, para ser usado en la proxima fase del proyecto.\n",
    "\n",
    "---"
   ]
  },
  {
   "attachments": {},
   "cell_type": "markdown",
   "metadata": {},
   "source": [
    "## <font color=#FF5733>SITUACIÓN ACTUAL:</font>\n",
    "\n",
    "> Al analisar los datos importados:"
   ]
  },
  {
   "attachments": {},
   "cell_type": "markdown",
   "metadata": {},
   "source": [
    "## <font color=#FF5733>Importar Librerías</font>"
   ]
  },
  {
   "cell_type": "code",
   "execution_count": 13,
   "metadata": {},
   "outputs": [],
   "source": [
    "import numpy as np\n",
    "import pandas as pd\n",
    "import seaborn as sns\n",
    "import matplotlib.pyplot as plt\n",
    "\n",
    "%matplotlib inline"
   ]
  },
  {
   "attachments": {},
   "cell_type": "markdown",
   "metadata": {},
   "source": [
    "## <font color=#FF5733>Importar CSVsS</font>"
   ]
  },
  {
   "attachments": {},
   "cell_type": "markdown",
   "metadata": {},
   "source": [
    "### <font color=#186a3b>--> Definir las rutas de los ficheros leídos y generados en el proceso de carga de datos </font>"
   ]
  },
  {
   "cell_type": "code",
   "execution_count": 14,
   "metadata": {},
   "outputs": [
    {
     "data": {
      "text/html": [
       "<div>\n",
       "<style scoped>\n",
       "    .dataframe tbody tr th:only-of-type {\n",
       "        vertical-align: middle;\n",
       "    }\n",
       "\n",
       "    .dataframe tbody tr th {\n",
       "        vertical-align: top;\n",
       "    }\n",
       "\n",
       "    .dataframe thead th {\n",
       "        text-align: right;\n",
       "    }\n",
       "</style>\n",
       "<table border=\"1\" class=\"dataframe\">\n",
       "  <thead>\n",
       "    <tr style=\"text-align: right;\">\n",
       "      <th></th>\n",
       "      <th>ANO</th>\n",
       "      <th>PAIS</th>\n",
       "      <th>REGION</th>\n",
       "      <th>ECONOMIA_PIB_PER_CAPITA</th>\n",
       "      <th>APOYO_SOCIAL</th>\n",
       "      <th>SALUD_ESPERANZA_DE_VIDA</th>\n",
       "      <th>LIBERTAD</th>\n",
       "      <th>PERCEPCION_CORRUPCION</th>\n",
       "      <th>GENEROSIDAD</th>\n",
       "    </tr>\n",
       "  </thead>\n",
       "  <tbody>\n",
       "    <tr>\n",
       "      <th>0</th>\n",
       "      <td>2015</td>\n",
       "      <td>Islandia</td>\n",
       "      <td>Europa Occidental</td>\n",
       "      <td>1.30232</td>\n",
       "      <td>1.40223</td>\n",
       "      <td>0.94784</td>\n",
       "      <td>0.62877</td>\n",
       "      <td>0.14145</td>\n",
       "      <td>0.43630</td>\n",
       "    </tr>\n",
       "    <tr>\n",
       "      <th>1</th>\n",
       "      <td>2015</td>\n",
       "      <td>Dinamarca</td>\n",
       "      <td>Europa Occidental</td>\n",
       "      <td>1.32548</td>\n",
       "      <td>1.36058</td>\n",
       "      <td>0.87464</td>\n",
       "      <td>0.64938</td>\n",
       "      <td>0.48357</td>\n",
       "      <td>0.34139</td>\n",
       "    </tr>\n",
       "  </tbody>\n",
       "</table>\n",
       "</div>"
      ],
      "text/plain": [
       "    ANO       PAIS             REGION  ECONOMIA_PIB_PER_CAPITA  APOYO_SOCIAL  \\\n",
       "0  2015   Islandia  Europa Occidental                  1.30232       1.40223   \n",
       "1  2015  Dinamarca  Europa Occidental                  1.32548       1.36058   \n",
       "\n",
       "   SALUD_ESPERANZA_DE_VIDA  LIBERTAD  PERCEPCION_CORRUPCION  GENEROSIDAD  \n",
       "0                  0.94784   0.62877                0.14145      0.43630  \n",
       "1                  0.87464   0.64938                0.48357      0.34139  "
      ]
     },
     "execution_count": 14,
     "metadata": {},
     "output_type": "execute_result"
    }
   ],
   "source": [
    "# Definir la ruta donde se encuentra la carpeta y los CSVs que iremos trabajar\n",
    "ruta_informes = '../data/informes/estadisticas_carga_ficheros.csv'\n",
    "ruta_nuevoCSV = '../data/ficheros_procesados/datos_preprocesados.csv'\n",
    "ruta_carpeta = '../data/'\n",
    "ruta_datos_preprocesados = '../data/ficheros_procesados/datos_preprocesados.csv'\n",
    "\n",
    "# Creación del DataFrame\n",
    "df = pd.read_csv(ruta_datos_preprocesados, delimiter=\",\", engine=\"python\")\n",
    "df.head(2)"
   ]
  },
  {
   "attachments": {},
   "cell_type": "markdown",
   "metadata": {},
   "source": [
    "### Cantidad de datos importados"
   ]
  },
  {
   "cell_type": "code",
   "execution_count": 15,
   "metadata": {},
   "outputs": [
    {
     "data": {
      "text/plain": [
       "(54, 9)"
      ]
     },
     "execution_count": 15,
     "metadata": {},
     "output_type": "execute_result"
    }
   ],
   "source": [
    "df.shape"
   ]
  },
  {
   "cell_type": "markdown",
   "metadata": {},
   "source": []
  },
  {
   "attachments": {},
   "cell_type": "markdown",
   "metadata": {},
   "source": [
    "## <font color=#FF5733>Generar nuevo CSV con los datos cargados y preprocesados</font>"
   ]
  },
  {
   "cell_type": "code",
   "execution_count": 16,
   "metadata": {},
   "outputs": [],
   "source": [
    "df.to_csv(ruta_nuevoCSV, index=False)"
   ]
  }
 ],
 "metadata": {
  "kernelspec": {
   "display_name": "nombre_kernel",
   "language": "python",
   "name": "nombre_kernel"
  },
  "language_info": {
   "codemirror_mode": {
    "name": "ipython",
    "version": 3
   },
   "file_extension": ".py",
   "mimetype": "text/x-python",
   "name": "python",
   "nbconvert_exporter": "python",
   "pygments_lexer": "ipython3",
   "version": "3.10.10"
  },
  "orig_nbformat": 4
 },
 "nbformat": 4,
 "nbformat_minor": 2
}
