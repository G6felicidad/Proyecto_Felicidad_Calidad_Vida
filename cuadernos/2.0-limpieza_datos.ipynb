{
 "cells": [
  {
   "attachments": {},
   "cell_type": "markdown",
   "metadata": {},
   "source": [
    "# <font color=900C3F>LIMPEZA DE DATOS (VALORES NULOS Y OUTLIERS)</font>"
   ]
  },
  {
   "attachments": {},
   "cell_type": "markdown",
   "metadata": {},
   "source": [
    "---\n",
    "\n",
    "## <font color=#FF5733>REQUISITOS:</font>\n",
    "\n",
    "> Los datos importados en este cuaderno han sido organizados en una fase anterior a esta, donde los datos, han pasado por un procesamiento de carga, tratamiento de estructura de columnas, traducción al español y fusion de los datos en un unico CSV.\n",
    "> \n",
    "> El proceso de limpieza de los datos tiene como objetivo verificar si hay valores nulos y outiliers en el conjunto de datos importados a este cuaderno.\n",
    "> \n",
    "> Habiendo valores nulos y outiliers, estos valores deben ser tratados.\n",
    "> \n",
    "> Outiliers son valores atípicos que pueden presentarse en un conjunto de datos y deben ser tratados.\n",
    "> \n",
    "> El proceso de limpieza de Outiliers debe aplicar la técnica de los \"Cuartiles\" para eliminar los valores atípicos.\n",
    "> \n",
    "> El proceso de tratamiento de Outliers empieza después del tratamiento de valores nulos.\n",
    ">  \n",
    "> Después de hacer la limpieza de los datos, este proceso debe generar un fichero en formato CSV, para ser usado en la proxima fase del proyecto.\n",
    "\n",
    "---"
   ]
  },
  {
   "attachments": {},
   "cell_type": "markdown",
   "metadata": {},
   "source": [
    "## <font color=#FF5733>SITUACIÓN ACTUAL:</font>\n",
    "\n",
    "> Al analisar los datos importados:"
   ]
  },
  {
   "attachments": {},
   "cell_type": "markdown",
   "metadata": {},
   "source": [
    "## <font color=#FF5733>Importar Librerías</font>"
   ]
  },
  {
   "cell_type": "code",
   "execution_count": 77,
   "metadata": {},
   "outputs": [],
   "source": [
    "import numpy as np\n",
    "import pandas as pd\n",
    "import seaborn as sns\n",
    "import matplotlib.pyplot as plt\n",
    "\n",
    "%matplotlib inline"
   ]
  },
  {
   "attachments": {},
   "cell_type": "markdown",
   "metadata": {},
   "source": [
    "## <font color=#FF5733>Importar CSVs</font>"
   ]
  },
  {
   "attachments": {},
   "cell_type": "markdown",
   "metadata": {},
   "source": [
    "### <font color=#186a3b>--> Definir las rutas de los ficheros leídos y generados en el proceso de carga de datos </font>"
   ]
  },
  {
   "cell_type": "code",
   "execution_count": 78,
   "metadata": {},
   "outputs": [
    {
     "data": {
      "text/html": [
       "<div>\n",
       "<style scoped>\n",
       "    .dataframe tbody tr th:only-of-type {\n",
       "        vertical-align: middle;\n",
       "    }\n",
       "\n",
       "    .dataframe tbody tr th {\n",
       "        vertical-align: top;\n",
       "    }\n",
       "\n",
       "    .dataframe thead th {\n",
       "        text-align: right;\n",
       "    }\n",
       "</style>\n",
       "<table border=\"1\" class=\"dataframe\">\n",
       "  <thead>\n",
       "    <tr style=\"text-align: right;\">\n",
       "      <th></th>\n",
       "      <th>ANO</th>\n",
       "      <th>PAIS</th>\n",
       "      <th>REGION</th>\n",
       "      <th>ECONOMIA_PIB_PER_CAPITA</th>\n",
       "      <th>APOYO_SOCIAL</th>\n",
       "      <th>SALUD_ESPERANZA_DE_VIDA</th>\n",
       "      <th>LIBERTAD</th>\n",
       "      <th>PERCEPCION_CORRUPCION</th>\n",
       "      <th>GENEROSIDAD</th>\n",
       "    </tr>\n",
       "  </thead>\n",
       "  <tbody>\n",
       "    <tr>\n",
       "      <th>0</th>\n",
       "      <td>2015</td>\n",
       "      <td>Islandia</td>\n",
       "      <td>Europa Occidental</td>\n",
       "      <td>1.30232</td>\n",
       "      <td>1.40223</td>\n",
       "      <td>0.94784</td>\n",
       "      <td>0.62877</td>\n",
       "      <td>0.14145</td>\n",
       "      <td>0.43630</td>\n",
       "    </tr>\n",
       "    <tr>\n",
       "      <th>1</th>\n",
       "      <td>2015</td>\n",
       "      <td>Dinamarca</td>\n",
       "      <td>Europa Occidental</td>\n",
       "      <td>1.32548</td>\n",
       "      <td>1.36058</td>\n",
       "      <td>0.87464</td>\n",
       "      <td>0.64938</td>\n",
       "      <td>0.48357</td>\n",
       "      <td>0.34139</td>\n",
       "    </tr>\n",
       "  </tbody>\n",
       "</table>\n",
       "</div>"
      ],
      "text/plain": [
       "    ANO       PAIS             REGION  ECONOMIA_PIB_PER_CAPITA  APOYO_SOCIAL  \\\n",
       "0  2015   Islandia  Europa Occidental                  1.30232       1.40223   \n",
       "1  2015  Dinamarca  Europa Occidental                  1.32548       1.36058   \n",
       "\n",
       "   SALUD_ESPERANZA_DE_VIDA  LIBERTAD  PERCEPCION_CORRUPCION  GENEROSIDAD  \n",
       "0                  0.94784   0.62877                0.14145      0.43630  \n",
       "1                  0.87464   0.64938                0.48357      0.34139  "
      ]
     },
     "execution_count": 78,
     "metadata": {},
     "output_type": "execute_result"
    }
   ],
   "source": [
    "# Definir la ruta donde se encuentra la carpeta y los CSVs que iremos trabajar\n",
    "ruta_informes = '../data/informes/estadisticas_carga_ficheros.csv'\n",
    "ruta_nuevoCSV = '../data/ficheros_procesados/datos_preprocesados.csv'\n",
    "ruta_carpeta = '../data/'\n",
    "ruta_datos_preprocesados = '../data/ficheros_procesados/datos_preprocesados.csv'\n",
    "\n",
    "# Creación del DataFrame\n",
    "df = pd.read_csv(ruta_datos_preprocesados, delimiter=\",\", engine=\"python\")\n",
    "df.head(2)"
   ]
  },
  {
   "attachments": {},
   "cell_type": "markdown",
   "metadata": {},
   "source": [
    "### Cantidad de datos importados"
   ]
  },
  {
   "cell_type": "code",
   "execution_count": 79,
   "metadata": {},
   "outputs": [
    {
     "data": {
      "text/plain": [
       "(54, 9)"
      ]
     },
     "execution_count": 79,
     "metadata": {},
     "output_type": "execute_result"
    }
   ],
   "source": [
    "df.shape"
   ]
  },
  {
   "attachments": {},
   "cell_type": "markdown",
   "metadata": {},
   "source": [
    "### Estadística Descriptiva - SITUACIÓN ACTUAL"
   ]
  },
  {
   "attachments": {},
   "cell_type": "markdown",
   "metadata": {},
   "source": [
    "#### Estructura de columnas (tipos de datos)"
   ]
  },
  {
   "cell_type": "code",
   "execution_count": 80,
   "metadata": {},
   "outputs": [
    {
     "name": "stdout",
     "output_type": "stream",
     "text": [
      "<class 'pandas.core.frame.DataFrame'>\n",
      "RangeIndex: 54 entries, 0 to 53\n",
      "Data columns (total 9 columns):\n",
      " #   Column                   Non-Null Count  Dtype  \n",
      "---  ------                   --------------  -----  \n",
      " 0   ANO                      54 non-null     int64  \n",
      " 1   PAIS                     54 non-null     object \n",
      " 2   REGION                   54 non-null     object \n",
      " 3   ECONOMIA_PIB_PER_CAPITA  54 non-null     float64\n",
      " 4   APOYO_SOCIAL             54 non-null     float64\n",
      " 5   SALUD_ESPERANZA_DE_VIDA  54 non-null     float64\n",
      " 6   LIBERTAD                 54 non-null     float64\n",
      " 7   PERCEPCION_CORRUPCION    54 non-null     float64\n",
      " 8   GENEROSIDAD              54 non-null     float64\n",
      "dtypes: float64(6), int64(1), object(2)\n",
      "memory usage: 3.9+ KB\n"
     ]
    }
   ],
   "source": [
    "df.info()"
   ]
  },
  {
   "attachments": {},
   "cell_type": "markdown",
   "metadata": {},
   "source": [
    "#### Resumen 1: Estadística Descriptiva"
   ]
  },
  {
   "cell_type": "code",
   "execution_count": 81,
   "metadata": {},
   "outputs": [
    {
     "data": {
      "text/html": [
       "<div>\n",
       "<style scoped>\n",
       "    .dataframe tbody tr th:only-of-type {\n",
       "        vertical-align: middle;\n",
       "    }\n",
       "\n",
       "    .dataframe tbody tr th {\n",
       "        vertical-align: top;\n",
       "    }\n",
       "\n",
       "    .dataframe thead th {\n",
       "        text-align: right;\n",
       "    }\n",
       "</style>\n",
       "<table border=\"1\" class=\"dataframe\">\n",
       "  <thead>\n",
       "    <tr style=\"text-align: right;\">\n",
       "      <th></th>\n",
       "      <th>ANO</th>\n",
       "      <th>ECONOMIA_PIB_PER_CAPITA</th>\n",
       "      <th>APOYO_SOCIAL</th>\n",
       "      <th>SALUD_ESPERANZA_DE_VIDA</th>\n",
       "      <th>LIBERTAD</th>\n",
       "      <th>PERCEPCION_CORRUPCION</th>\n",
       "      <th>GENEROSIDAD</th>\n",
       "    </tr>\n",
       "  </thead>\n",
       "  <tbody>\n",
       "    <tr>\n",
       "      <th>count</th>\n",
       "      <td>54.00</td>\n",
       "      <td>54.00</td>\n",
       "      <td>54.00</td>\n",
       "      <td>54.00</td>\n",
       "      <td>54.00</td>\n",
       "      <td>54.00</td>\n",
       "      <td>54.00</td>\n",
       "    </tr>\n",
       "    <tr>\n",
       "      <th>mean</th>\n",
       "      <td>2019.00</td>\n",
       "      <td>1.51</td>\n",
       "      <td>1.39</td>\n",
       "      <td>0.84</td>\n",
       "      <td>0.62</td>\n",
       "      <td>0.33</td>\n",
       "      <td>0.26</td>\n",
       "    </tr>\n",
       "    <tr>\n",
       "      <th>std</th>\n",
       "      <td>2.61</td>\n",
       "      <td>0.23</td>\n",
       "      <td>0.19</td>\n",
       "      <td>0.14</td>\n",
       "      <td>0.10</td>\n",
       "      <td>0.16</td>\n",
       "      <td>0.09</td>\n",
       "    </tr>\n",
       "    <tr>\n",
       "      <th>min</th>\n",
       "      <td>2015.00</td>\n",
       "      <td>1.23</td>\n",
       "      <td>1.06</td>\n",
       "      <td>0.54</td>\n",
       "      <td>0.36</td>\n",
       "      <td>0.06</td>\n",
       "      <td>0.10</td>\n",
       "    </tr>\n",
       "    <tr>\n",
       "      <th>25%</th>\n",
       "      <td>2017.00</td>\n",
       "      <td>1.34</td>\n",
       "      <td>1.22</td>\n",
       "      <td>0.79</td>\n",
       "      <td>0.58</td>\n",
       "      <td>0.15</td>\n",
       "      <td>0.19</td>\n",
       "    </tr>\n",
       "    <tr>\n",
       "      <th>50%</th>\n",
       "      <td>2019.00</td>\n",
       "      <td>1.44</td>\n",
       "      <td>1.48</td>\n",
       "      <td>0.85</td>\n",
       "      <td>0.65</td>\n",
       "      <td>0.39</td>\n",
       "      <td>0.25</td>\n",
       "    </tr>\n",
       "    <tr>\n",
       "      <th>75%</th>\n",
       "      <td>2021.00</td>\n",
       "      <td>1.57</td>\n",
       "      <td>1.55</td>\n",
       "      <td>0.95</td>\n",
       "      <td>0.69</td>\n",
       "      <td>0.45</td>\n",
       "      <td>0.35</td>\n",
       "    </tr>\n",
       "    <tr>\n",
       "      <th>max</th>\n",
       "      <td>2023.00</td>\n",
       "      <td>2.00</td>\n",
       "      <td>1.64</td>\n",
       "      <td>1.06</td>\n",
       "      <td>0.77</td>\n",
       "      <td>0.54</td>\n",
       "      <td>0.48</td>\n",
       "    </tr>\n",
       "  </tbody>\n",
       "</table>\n",
       "</div>"
      ],
      "text/plain": [
       "           ANO ECONOMIA_PIB_PER_CAPITA APOYO_SOCIAL SALUD_ESPERANZA_DE_VIDA  \\\n",
       "count    54.00                   54.00        54.00                   54.00   \n",
       "mean   2019.00                    1.51         1.39                    0.84   \n",
       "std       2.61                    0.23         0.19                    0.14   \n",
       "min    2015.00                    1.23         1.06                    0.54   \n",
       "25%    2017.00                    1.34         1.22                    0.79   \n",
       "50%    2019.00                    1.44         1.48                    0.85   \n",
       "75%    2021.00                    1.57         1.55                    0.95   \n",
       "max    2023.00                    2.00         1.64                    1.06   \n",
       "\n",
       "      LIBERTAD PERCEPCION_CORRUPCION GENEROSIDAD  \n",
       "count    54.00                 54.00       54.00  \n",
       "mean      0.62                  0.33        0.26  \n",
       "std       0.10                  0.16        0.09  \n",
       "min       0.36                  0.06        0.10  \n",
       "25%       0.58                  0.15        0.19  \n",
       "50%       0.65                  0.39        0.25  \n",
       "75%       0.69                  0.45        0.35  \n",
       "max       0.77                  0.54        0.48  "
      ]
     },
     "execution_count": 81,
     "metadata": {},
     "output_type": "execute_result"
    }
   ],
   "source": [
    "df.describe().apply(lambda s: s.apply('{0:.2f}'.format))"
   ]
  },
  {
   "attachments": {},
   "cell_type": "markdown",
   "metadata": {},
   "source": [
    "#### Resumen 2: Estadística Descriptiva"
   ]
  },
  {
   "cell_type": "code",
   "execution_count": 82,
   "metadata": {},
   "outputs": [
    {
     "data": {
      "text/html": [
       "<div>\n",
       "<style scoped>\n",
       "    .dataframe tbody tr th:only-of-type {\n",
       "        vertical-align: middle;\n",
       "    }\n",
       "\n",
       "    .dataframe tbody tr th {\n",
       "        vertical-align: top;\n",
       "    }\n",
       "\n",
       "    .dataframe thead th {\n",
       "        text-align: right;\n",
       "    }\n",
       "</style>\n",
       "<table border=\"1\" class=\"dataframe\">\n",
       "  <thead>\n",
       "    <tr style=\"text-align: right;\">\n",
       "      <th></th>\n",
       "      <th>count</th>\n",
       "      <th>mean</th>\n",
       "      <th>std</th>\n",
       "      <th>min</th>\n",
       "      <th>25%</th>\n",
       "      <th>50%</th>\n",
       "      <th>75%</th>\n",
       "      <th>max</th>\n",
       "    </tr>\n",
       "  </thead>\n",
       "  <tbody>\n",
       "    <tr>\n",
       "      <th>ANO</th>\n",
       "      <td>54.00</td>\n",
       "      <td>2019.00</td>\n",
       "      <td>2.61</td>\n",
       "      <td>2015.00</td>\n",
       "      <td>2017.00</td>\n",
       "      <td>2019.00</td>\n",
       "      <td>2021.00</td>\n",
       "      <td>2023.00</td>\n",
       "    </tr>\n",
       "    <tr>\n",
       "      <th>ECONOMIA_PIB_PER_CAPITA</th>\n",
       "      <td>54.00</td>\n",
       "      <td>1.51</td>\n",
       "      <td>0.23</td>\n",
       "      <td>1.23</td>\n",
       "      <td>1.34</td>\n",
       "      <td>1.44</td>\n",
       "      <td>1.57</td>\n",
       "      <td>2.00</td>\n",
       "    </tr>\n",
       "    <tr>\n",
       "      <th>APOYO_SOCIAL</th>\n",
       "      <td>54.00</td>\n",
       "      <td>1.39</td>\n",
       "      <td>0.19</td>\n",
       "      <td>1.06</td>\n",
       "      <td>1.22</td>\n",
       "      <td>1.48</td>\n",
       "      <td>1.55</td>\n",
       "      <td>1.64</td>\n",
       "    </tr>\n",
       "    <tr>\n",
       "      <th>SALUD_ESPERANZA_DE_VIDA</th>\n",
       "      <td>54.00</td>\n",
       "      <td>0.84</td>\n",
       "      <td>0.14</td>\n",
       "      <td>0.54</td>\n",
       "      <td>0.79</td>\n",
       "      <td>0.85</td>\n",
       "      <td>0.95</td>\n",
       "      <td>1.06</td>\n",
       "    </tr>\n",
       "    <tr>\n",
       "      <th>LIBERTAD</th>\n",
       "      <td>54.00</td>\n",
       "      <td>0.62</td>\n",
       "      <td>0.10</td>\n",
       "      <td>0.36</td>\n",
       "      <td>0.58</td>\n",
       "      <td>0.65</td>\n",
       "      <td>0.69</td>\n",
       "      <td>0.77</td>\n",
       "    </tr>\n",
       "    <tr>\n",
       "      <th>PERCEPCION_CORRUPCION</th>\n",
       "      <td>54.00</td>\n",
       "      <td>0.33</td>\n",
       "      <td>0.16</td>\n",
       "      <td>0.06</td>\n",
       "      <td>0.15</td>\n",
       "      <td>0.39</td>\n",
       "      <td>0.45</td>\n",
       "      <td>0.54</td>\n",
       "    </tr>\n",
       "    <tr>\n",
       "      <th>GENEROSIDAD</th>\n",
       "      <td>54.00</td>\n",
       "      <td>0.26</td>\n",
       "      <td>0.09</td>\n",
       "      <td>0.10</td>\n",
       "      <td>0.19</td>\n",
       "      <td>0.25</td>\n",
       "      <td>0.35</td>\n",
       "      <td>0.48</td>\n",
       "    </tr>\n",
       "  </tbody>\n",
       "</table>\n",
       "</div>"
      ],
      "text/plain": [
       "                         count     mean   std      min      25%      50%  \\\n",
       "ANO                      54.00  2019.00  2.61  2015.00  2017.00  2019.00   \n",
       "ECONOMIA_PIB_PER_CAPITA  54.00     1.51  0.23     1.23     1.34     1.44   \n",
       "APOYO_SOCIAL             54.00     1.39  0.19     1.06     1.22     1.48   \n",
       "SALUD_ESPERANZA_DE_VIDA  54.00     0.84  0.14     0.54     0.79     0.85   \n",
       "LIBERTAD                 54.00     0.62  0.10     0.36     0.58     0.65   \n",
       "PERCEPCION_CORRUPCION    54.00     0.33  0.16     0.06     0.15     0.39   \n",
       "GENEROSIDAD              54.00     0.26  0.09     0.10     0.19     0.25   \n",
       "\n",
       "                             75%      max  \n",
       "ANO                      2021.00  2023.00  \n",
       "ECONOMIA_PIB_PER_CAPITA     1.57     2.00  \n",
       "APOYO_SOCIAL                1.55     1.64  \n",
       "SALUD_ESPERANZA_DE_VIDA     0.95     1.06  \n",
       "LIBERTAD                    0.69     0.77  \n",
       "PERCEPCION_CORRUPCION       0.45     0.54  \n",
       "GENEROSIDAD                 0.35     0.48  "
      ]
     },
     "execution_count": 82,
     "metadata": {},
     "output_type": "execute_result"
    }
   ],
   "source": [
    "# df.describe().round(2).T\n",
    "df.describe().T.apply(lambda s: s.apply('{0:.2f}'.format))\n"
   ]
  },
  {
   "attachments": {},
   "cell_type": "markdown",
   "metadata": {},
   "source": [
    "## <font color=#FF5733>Verificar si hay valores Nulos</font>"
   ]
  },
  {
   "cell_type": "code",
   "execution_count": 83,
   "metadata": {},
   "outputs": [
    {
     "data": {
      "text/plain": [
       "ANO                        0\n",
       "PAIS                       0\n",
       "REGION                     0\n",
       "ECONOMIA_PIB_PER_CAPITA    0\n",
       "APOYO_SOCIAL               0\n",
       "SALUD_ESPERANZA_DE_VIDA    0\n",
       "LIBERTAD                   0\n",
       "PERCEPCION_CORRUPCION      0\n",
       "GENEROSIDAD                0\n",
       "dtype: int64"
      ]
     },
     "execution_count": 83,
     "metadata": {},
     "output_type": "execute_result"
    }
   ],
   "source": [
    "df.isnull().sum()"
   ]
  },
  {
   "attachments": {},
   "cell_type": "markdown",
   "metadata": {},
   "source": [
    "<font color=#DAF>👨‍💻 `¡Imortante!` No hay que hacer tratamiento de valores nulos porque todos los datos viene rellenados en el CSV importado.</font>"
   ]
  },
  {
   "attachments": {},
   "cell_type": "markdown",
   "metadata": {},
   "source": [
    "## <font color=#FF5733>Análisis Exploratória - Valores Atípico (Outliers)</font>\n",
    "\n",
    "Empezamos por analisar si hay valores atípico en nuestro conjunto de datos y luego identificamos por medio de las gráficas de bigotes (BoxPlot), cuales son los valores que estan fuera del Rango Intercuartil\"."
   ]
  },
  {
   "cell_type": "code",
   "execution_count": 84,
   "metadata": {},
   "outputs": [
    {
     "data": {
      "text/plain": [
       "Index(['ANO', 'PAIS', 'REGION', 'ECONOMIA_PIB_PER_CAPITA', 'APOYO_SOCIAL',\n",
       "       'SALUD_ESPERANZA_DE_VIDA', 'LIBERTAD', 'PERCEPCION_CORRUPCION',\n",
       "       'GENEROSIDAD'],\n",
       "      dtype='object')"
      ]
     },
     "execution_count": 84,
     "metadata": {},
     "output_type": "execute_result"
    }
   ],
   "source": [
    "df.columns"
   ]
  },
  {
   "cell_type": "code",
   "execution_count": 85,
   "metadata": {},
   "outputs": [],
   "source": [
    "# funcion que dado un determinado dataframe genera una tabla con los valores de parámetros de Cuartiles que vamos \n",
    "# aplicar en el tramamiento de Outiers.\n",
    "def calcular_estadisticas(df):\n",
    "    # Crear un nuevo DataFrame para almacenar los resultados de los cuartiles\n",
    "    resultados_df = pd.DataFrame(\n",
    "        columns=[\n",
    "            \"Columna\",\n",
    "            \"Cuartil 0.25\",\n",
    "            \"Cuartil 0.50\",\n",
    "            \"Cuartil 0.75\",\n",
    "            \"Rango intercuartil\",\n",
    "        ]\n",
    "    )\n",
    "\n",
    "    # Crea una lista con las variables que queremos verificar los cuartiles\n",
    "    numeric_columns = [\n",
    "        \"ECONOMIA_PIB_PER_CAPITA\",\n",
    "        \"APOYO_SOCIAL\",\n",
    "        \"SALUD_ESPERANZA_DE_VIDA\",\n",
    "        \"LIBERTAD\",\n",
    "        \"PERCEPCION_CORRUPCION\",\n",
    "        \"GENEROSIDAD\"\n",
    "    ]\n",
    "\n",
    "    # Calcular los cuartiles y los rangos intercuartiles para cada columna\n",
    "    for columna in numeric_columns:\n",
    "        Q1 = df[columna].quantile(0.25)\n",
    "        Q2 = df[columna].quantile(0.50)\n",
    "        Q3 = df[columna].quantile(0.75)\n",
    "        IQR = Q3 - Q1\n",
    "        limite_inferior = Q1 - 1.5 * IQR\n",
    "        limite_superior = Q3 + 1.5 * IQR\n",
    "\n",
    "        new_row = pd.DataFrame(\n",
    "            {\n",
    "                \"Columna\": columna,\n",
    "                \"Cuartil 0.25\": Q1,\n",
    "                \"Cuartil 0.50\": Q2,\n",
    "                \"Cuartil 0.75\": Q3,\n",
    "                \"Rango intercuartil\": IQR,\n",
    "                \"Limite inferior\": limite_inferior,\n",
    "                \"Limite superior\": limite_superior,\n",
    "            },\n",
    "            index=[0],\n",
    "        )\n",
    "\n",
    "        resultados_df = pd.concat([resultados_df, new_row], ignore_index=True)\n",
    "\n",
    "    # retorna un nuevo DataFrame (resultados_df) con los resultados\n",
    "    return resultados_df.head(15).round(2)"
   ]
  },
  {
   "cell_type": "code",
   "execution_count": 86,
   "metadata": {},
   "outputs": [
    {
     "name": "stdout",
     "output_type": "stream",
     "text": [
      "CPU times: total: 78.1 ms\n",
      "Wall time: 87 ms\n"
     ]
    },
    {
     "data": {
      "text/html": [
       "<div>\n",
       "<style scoped>\n",
       "    .dataframe tbody tr th:only-of-type {\n",
       "        vertical-align: middle;\n",
       "    }\n",
       "\n",
       "    .dataframe tbody tr th {\n",
       "        vertical-align: top;\n",
       "    }\n",
       "\n",
       "    .dataframe thead th {\n",
       "        text-align: right;\n",
       "    }\n",
       "</style>\n",
       "<table border=\"1\" class=\"dataframe\">\n",
       "  <thead>\n",
       "    <tr style=\"text-align: right;\">\n",
       "      <th></th>\n",
       "      <th>Columna</th>\n",
       "      <th>Cuartil 0.25</th>\n",
       "      <th>Cuartil 0.50</th>\n",
       "      <th>Cuartil 0.75</th>\n",
       "      <th>Rango intercuartil</th>\n",
       "      <th>Limite inferior</th>\n",
       "      <th>Limite superior</th>\n",
       "    </tr>\n",
       "  </thead>\n",
       "  <tbody>\n",
       "    <tr>\n",
       "      <th>0</th>\n",
       "      <td>ECONOMIA_PIB_PER_CAPITA</td>\n",
       "      <td>1.34</td>\n",
       "      <td>1.44</td>\n",
       "      <td>1.57</td>\n",
       "      <td>0.23</td>\n",
       "      <td>1.00</td>\n",
       "      <td>1.91</td>\n",
       "    </tr>\n",
       "    <tr>\n",
       "      <th>1</th>\n",
       "      <td>APOYO_SOCIAL</td>\n",
       "      <td>1.22</td>\n",
       "      <td>1.48</td>\n",
       "      <td>1.55</td>\n",
       "      <td>0.33</td>\n",
       "      <td>0.73</td>\n",
       "      <td>2.04</td>\n",
       "    </tr>\n",
       "    <tr>\n",
       "      <th>2</th>\n",
       "      <td>SALUD_ESPERANZA_DE_VIDA</td>\n",
       "      <td>0.79</td>\n",
       "      <td>0.85</td>\n",
       "      <td>0.95</td>\n",
       "      <td>0.17</td>\n",
       "      <td>0.54</td>\n",
       "      <td>1.20</td>\n",
       "    </tr>\n",
       "    <tr>\n",
       "      <th>3</th>\n",
       "      <td>LIBERTAD</td>\n",
       "      <td>0.58</td>\n",
       "      <td>0.65</td>\n",
       "      <td>0.69</td>\n",
       "      <td>0.10</td>\n",
       "      <td>0.43</td>\n",
       "      <td>0.84</td>\n",
       "    </tr>\n",
       "    <tr>\n",
       "      <th>4</th>\n",
       "      <td>PERCEPCION_CORRUPCION</td>\n",
       "      <td>0.15</td>\n",
       "      <td>0.39</td>\n",
       "      <td>0.45</td>\n",
       "      <td>0.29</td>\n",
       "      <td>-0.28</td>\n",
       "      <td>0.89</td>\n",
       "    </tr>\n",
       "    <tr>\n",
       "      <th>5</th>\n",
       "      <td>GENEROSIDAD</td>\n",
       "      <td>0.19</td>\n",
       "      <td>0.25</td>\n",
       "      <td>0.35</td>\n",
       "      <td>0.16</td>\n",
       "      <td>-0.05</td>\n",
       "      <td>0.58</td>\n",
       "    </tr>\n",
       "  </tbody>\n",
       "</table>\n",
       "</div>"
      ],
      "text/plain": [
       "                   Columna  Cuartil 0.25  Cuartil 0.50  Cuartil 0.75  \\\n",
       "0  ECONOMIA_PIB_PER_CAPITA          1.34          1.44          1.57   \n",
       "1             APOYO_SOCIAL          1.22          1.48          1.55   \n",
       "2  SALUD_ESPERANZA_DE_VIDA          0.79          0.85          0.95   \n",
       "3                 LIBERTAD          0.58          0.65          0.69   \n",
       "4    PERCEPCION_CORRUPCION          0.15          0.39          0.45   \n",
       "5              GENEROSIDAD          0.19          0.25          0.35   \n",
       "\n",
       "   Rango intercuartil  Limite inferior  Limite superior  \n",
       "0                0.23             1.00             1.91  \n",
       "1                0.33             0.73             2.04  \n",
       "2                0.17             0.54             1.20  \n",
       "3                0.10             0.43             0.84  \n",
       "4                0.29            -0.28             0.89  \n",
       "5                0.16            -0.05             0.58  "
      ]
     },
     "execution_count": 86,
     "metadata": {},
     "output_type": "execute_result"
    }
   ],
   "source": [
    "%%time \n",
    "# LLama la función para conocernos los valores de los parámetros del procesos de los cuartiles que iremos aplicar a \n",
    "# nuestro conjunto de datos. Esta tabla tambien sirve para la documentación del proyecto.\n",
    "calcular_estadisticas(df)"
   ]
  },
  {
   "attachments": {},
   "cell_type": "markdown",
   "metadata": {},
   "source": [
    "### <font color=#FF5733>Gráficas (Situación Actual)</font>\n"
   ]
  },
  {
   "cell_type": "code",
   "execution_count": null,
   "metadata": {},
   "outputs": [],
   "source": []
  },
  {
   "attachments": {},
   "cell_type": "markdown",
   "metadata": {},
   "source": [
    "## <font color=#FF5733>Generar nuevo CSV con los datos cargados y preprocesados</font>"
   ]
  },
  {
   "cell_type": "code",
   "execution_count": 87,
   "metadata": {},
   "outputs": [],
   "source": [
    "df.to_csv(ruta_nuevoCSV, index=False)"
   ]
  }
 ],
 "metadata": {
  "kernelspec": {
   "display_name": "nombre_kernel",
   "language": "python",
   "name": "nombre_kernel"
  },
  "language_info": {
   "codemirror_mode": {
    "name": "ipython",
    "version": 3
   },
   "file_extension": ".py",
   "mimetype": "text/x-python",
   "name": "python",
   "nbconvert_exporter": "python",
   "pygments_lexer": "ipython3",
   "version": "3.10.10"
  },
  "orig_nbformat": 4
 },
 "nbformat": 4,
 "nbformat_minor": 2
}
